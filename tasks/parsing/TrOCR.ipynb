{
 "cells": [
  {
   "cell_type": "code",
   "execution_count": 1,
   "id": "e871d1c3",
   "metadata": {},
   "outputs": [],
   "source": [
    "from PIL import Image, ImageEnhance, ImageFilter\n",
    "import numpy as np\n",
    "from transformers import pipeline\n",
    "import requests\n",
    "from io import BytesIO"
   ]
  },
  {
   "cell_type": "code",
   "execution_count": 2,
   "id": "a02481b2",
   "metadata": {},
   "outputs": [
    {
     "data": {
      "application/vnd.jupyter.widget-view+json": {
       "model_id": "c4915a1f13d94ce3b0affc4138c67ba6",
       "version_major": 2,
       "version_minor": 0
      },
      "text/plain": [
       "pytorch_model.bin:   0%|          | 0.00/2.43G [00:00<?, ?B/s]"
      ]
     },
     "metadata": {},
     "output_type": "display_data"
    },
    {
     "name": "stderr",
     "output_type": "stream",
     "text": [
      "c:\\Users\\i1032745\\AppData\\Local\\anaconda3\\Lib\\site-packages\\huggingface_hub\\file_download.py:143: UserWarning: `huggingface_hub` cache-system uses symlinks by default to efficiently store duplicated files but your machine does not support them in C:\\Users\\i1032745\\.cache\\huggingface\\hub\\models--microsoft--trocr-large-printed. Caching files will still work but in a degraded version that might require more space on your disk. This warning can be disabled by setting the `HF_HUB_DISABLE_SYMLINKS_WARNING` environment variable. For more details, see https://huggingface.co/docs/huggingface_hub/how-to-cache#limitations.\n",
      "To support symlinks on Windows, you either need to activate Developer Mode or to run Python as an administrator. In order to activate developer mode, see this article: https://docs.microsoft.com/en-us/windows/apps/get-started/enable-your-device-for-development\n",
      "  warnings.warn(message)\n",
      "Config of the encoder: <class 'transformers.models.vit.modeling_vit.ViTModel'> is overwritten by shared encoder config: ViTConfig {\n",
      "  \"attention_probs_dropout_prob\": 0.0,\n",
      "  \"encoder_stride\": 16,\n",
      "  \"hidden_act\": \"gelu\",\n",
      "  \"hidden_dropout_prob\": 0.0,\n",
      "  \"hidden_size\": 1024,\n",
      "  \"image_size\": 384,\n",
      "  \"initializer_range\": 0.02,\n",
      "  \"intermediate_size\": 4096,\n",
      "  \"layer_norm_eps\": 1e-12,\n",
      "  \"model_type\": \"vit\",\n",
      "  \"num_attention_heads\": 16,\n",
      "  \"num_channels\": 3,\n",
      "  \"num_hidden_layers\": 24,\n",
      "  \"patch_size\": 16,\n",
      "  \"pooler_act\": \"tanh\",\n",
      "  \"pooler_output_size\": 1024,\n",
      "  \"qkv_bias\": false,\n",
      "  \"torch_dtype\": \"float32\",\n",
      "  \"transformers_version\": \"4.51.3\"\n",
      "}\n",
      "\n",
      "Config of the decoder: <class 'transformers.models.trocr.modeling_trocr.TrOCRForCausalLM'> is overwritten by shared decoder config: TrOCRConfig {\n",
      "  \"activation_dropout\": 0.0,\n",
      "  \"activation_function\": \"relu\",\n",
      "  \"add_cross_attention\": true,\n",
      "  \"attention_dropout\": 0.0,\n",
      "  \"bos_token_id\": 0,\n",
      "  \"classifier_dropout\": 0.0,\n",
      "  \"cross_attention_hidden_size\": 1024,\n",
      "  \"d_model\": 1024,\n",
      "  \"decoder_attention_heads\": 16,\n",
      "  \"decoder_ffn_dim\": 4096,\n",
      "  \"decoder_layerdrop\": 0.0,\n",
      "  \"decoder_layers\": 12,\n",
      "  \"decoder_start_token_id\": 2,\n",
      "  \"dropout\": 0.1,\n",
      "  \"eos_token_id\": 2,\n",
      "  \"init_std\": 0.02,\n",
      "  \"is_decoder\": true,\n",
      "  \"layernorm_embedding\": false,\n",
      "  \"max_position_embeddings\": 1024,\n",
      "  \"model_type\": \"trocr\",\n",
      "  \"pad_token_id\": 1,\n",
      "  \"scale_embedding\": true,\n",
      "  \"tie_word_embeddings\": false,\n",
      "  \"torch_dtype\": \"float32\",\n",
      "  \"transformers_version\": \"4.51.3\",\n",
      "  \"use_cache\": false,\n",
      "  \"use_learned_position_embeddings\": false,\n",
      "  \"vocab_size\": 50265\n",
      "}\n",
      "\n",
      "Some weights of VisionEncoderDecoderModel were not initialized from the model checkpoint at microsoft/trocr-large-printed and are newly initialized: ['encoder.pooler.dense.bias', 'encoder.pooler.dense.weight']\n",
      "You should probably TRAIN this model on a down-stream task to be able to use it for predictions and inference.\n"
     ]
    },
    {
     "data": {
      "application/vnd.jupyter.widget-view+json": {
       "model_id": "0f953f697d1d429a93c22fc78fa07ce7",
       "version_major": 2,
       "version_minor": 0
      },
      "text/plain": [
       "generation_config.json:   0%|          | 0.00/190 [00:00<?, ?B/s]"
      ]
     },
     "metadata": {},
     "output_type": "display_data"
    },
    {
     "data": {
      "application/vnd.jupyter.widget-view+json": {
       "model_id": "b8913daeaef74676827138f7738ec4f5",
       "version_major": 2,
       "version_minor": 0
      },
      "text/plain": [
       "tokenizer_config.json:   0%|          | 0.00/1.12k [00:00<?, ?B/s]"
      ]
     },
     "metadata": {},
     "output_type": "display_data"
    },
    {
     "data": {
      "application/vnd.jupyter.widget-view+json": {
       "model_id": "84dcdae5fb9549baa34e50e6ef3a171b",
       "version_major": 2,
       "version_minor": 0
      },
      "text/plain": [
       "vocab.json:   0%|          | 0.00/899k [00:00<?, ?B/s]"
      ]
     },
     "metadata": {},
     "output_type": "display_data"
    },
    {
     "data": {
      "application/vnd.jupyter.widget-view+json": {
       "model_id": "3932f65c5dfc4e7393b8ee802356dba5",
       "version_major": 2,
       "version_minor": 0
      },
      "text/plain": [
       "merges.txt:   0%|          | 0.00/456k [00:00<?, ?B/s]"
      ]
     },
     "metadata": {},
     "output_type": "display_data"
    },
    {
     "data": {
      "application/vnd.jupyter.widget-view+json": {
       "model_id": "4a211d21addb43dea87005328fc07d34",
       "version_major": 2,
       "version_minor": 0
      },
      "text/plain": [
       "special_tokens_map.json:   0%|          | 0.00/772 [00:00<?, ?B/s]"
      ]
     },
     "metadata": {},
     "output_type": "display_data"
    },
    {
     "data": {
      "application/vnd.jupyter.widget-view+json": {
       "model_id": "fc14ca1edf434760b254d5fff83c52ad",
       "version_major": 2,
       "version_minor": 0
      },
      "text/plain": [
       "preprocessor_config.json:   0%|          | 0.00/224 [00:00<?, ?B/s]"
      ]
     },
     "metadata": {},
     "output_type": "display_data"
    },
    {
     "name": "stderr",
     "output_type": "stream",
     "text": [
      "Using a slow image processor as `use_fast` is unset and a slow processor was saved with this model. `use_fast=True` will be the default behavior in v4.52, even if the model was saved with a slow processor. This will result in minor differences in outputs. You'll still be able to use a slow processor with `use_fast=False`.\n",
      "Device set to use cpu\n"
     ]
    }
   ],
   "source": [
    "pipe = pipeline(model='microsoft/trocr-large-printed')"
   ]
  },
  {
   "cell_type": "code",
   "execution_count": null,
   "id": "7f1a3d9e",
   "metadata": {},
   "outputs": [
    {
     "name": "stdout",
     "output_type": "stream",
     "text": [
      "Downloading image from: https://docelf.com/images/free_receipt_template_xs.png\n",
      "Processing image with TrOCR...\n",
      "Processing image with TrOCR...\n",
      "Extracted text: :\n",
      "Extracted text: :\n"
     ]
    }
   ],
   "source": [
    "image_url = \"https://docelf.com/images/free_receipt_template_xs.png\"\n",
    "\n",
    "def trocr_extract(file_path=None, image=None, preprocess=True):\n",
    "    if image is None and file_path:\n",
    "        img = Image.open(file_path)\n",
    "    elif image:\n",
    "        img = image\n",
    "    else:\n",
    "        raise ValueError(\"Either file_path or image must be provided\")\n",
    "    \n",
    "    # Make sure the image is in the right mode for processing\n",
    "    if img.mode != 'RGB':\n",
    "        img = img.convert('RGB')\n",
    "    \n",
    "    # Preprocessing to improve OCR results\n",
    "    if preprocess:\n",
    "        # Resize if image is too small\n",
    "        if img.width < 1000 or img.height < 1000:\n",
    "            ratio = max(1000/img.width, 1000/img.height)\n",
    "            new_size = (int(img.width * ratio), int(img.height * ratio))\n",
    "            img = img.resize(new_size, Image.LANCZOS)\n",
    "        \n",
    "        # Increase contrast\n",
    "        enhancer = ImageEnhance.Contrast(img)\n",
    "        img = enhancer.enhance(2.0)  # Increase contrast by factor of 2\n",
    "        \n",
    "        # Convert to grayscale for OCR\n",
    "        img = img.convert('L')\n",
    "        \n",
    "        # Apply slight sharpening\n",
    "        img = img.filter(ImageFilter.SHARPEN)\n",
    "    else:\n",
    "        # Just convert to grayscale if no preprocessing\n",
    "        img = img.convert('L')\n",
    "    \n",
    "    # Run OCR\n",
    "    print(f\"Processing image of size {img.size} and mode {img.mode}\")\n",
    "    lst_raw_text = pipe(img)\n",
    "    \n",
    "    # Extract and process text\n",
    "    text_result = lst_raw_text[0]['generated_text']\n",
    "    print(f\"Raw extracted text: '{text_result}'\")\n",
    "    \n",
    "    # Clean up text if needed\n",
    "    cleaned_text = text_result.strip()\n",
    "    return cleaned_text\n",
    "\n",
    "def process_image_from_url(url, display_image=True):\n",
    "    try:\n",
    "        print(f\"Downloading image from: {url}\")\n",
    "        response = requests.get(url, timeout=10)\n",
    "        response.raise_for_status()\n",
    "        \n",
    "        print(f\"Response status: {response.status_code}, Content-Type: {response.headers.get('Content-Type')}\")\n",
    "        print(f\"Content length: {len(response.content)} bytes\")\n",
    "        \n",
    "        img_data = BytesIO(response.content)\n",
    "        img = Image.open(img_data)\n",
    "        print(f\"Image opened successfully. Size: {img.size}, Format: {img.format}, Mode: {img.mode}\")\n",
    "        \n",
    "        if display_image:\n",
    "            from IPython.display import display\n",
    "            display(img)\n",
    "        \n",
    "        print(\"Processing image with TrOCR...\")\n",
    "        # Try with preprocessing\n",
    "        result = trocr_extract(image=img, preprocess=True)\n",
    "        print(f\"Extracted text (with preprocessing): '{result}'\")\n",
    "        \n",
    "        if not result.strip():  # If no text was extracted, try without preprocessing\n",
    "            print(\"\\nRetrying without preprocessing...\")\n",
    "            result = trocr_extract(image=img, preprocess=False)\n",
    "            print(f\"Extracted text (without preprocessing): '{result}'\")\n",
    "            \n",
    "        return result\n",
    "    \n",
    "    except requests.RequestException as e:\n",
    "        print(f\"Request error: {e}\")\n",
    "    except UnidentifiedImageError as e:\n",
    "        print(f\"Image error: {e}\")\n",
    "        print(\"The URL might not point to a valid image or the image format is not supported.\")\n",
    "    except Exception as e:\n",
    "        print(f\"Unexpected error: {type(e).__name__}, {e}\")\n",
    "        import traceback\n",
    "        traceback.print_exc()\n",
    "\n",
    "if __name__ == \"__main__\":\n",
    "    process_image_from_url(image_url)"
   ]
  },
  {
   "cell_type": "code",
   "execution_count": null,
   "id": "3f2f7a78",
   "metadata": {},
   "outputs": [],
   "source": [
    "# Try with different receipt image URLs that are known to work well with OCR\n",
    "alternative_urls = [\n",
    "    \"https://cdn-blog.adafruit.com/uploads/2015/11/receipt.png\",\n",
    "    \"https://encrypted-tbn0.gstatic.com/images?q=tbn:ANd9GcRD0yltS5oCMwbQ23iQ8Tl9PXyNcXPh0PnhLw&usqp=CAU\"\n",
    "]\n",
    "\n",
    "# Try the alternative URLs\n",
    "for url in alternative_urls:\n",
    "    print(f\"\\n\\nTrying alternative image: {url}\")\n",
    "    process_image_from_url(url)"
   ]
  },
  {
   "cell_type": "code",
   "execution_count": null,
   "id": "7058f0fc",
   "metadata": {},
   "outputs": [],
   "source": [
    "# Create a test image with known text\n",
    "from PIL import Image, ImageDraw, ImageFont\n",
    "import io\n",
    "\n",
    "def create_test_image(text=\"TEST RECEIPT\\nTotal: $25.99\", width=500, height=300, bg_color='white'):\n",
    "    # Create a white image\n",
    "    img = Image.new('RGB', (width, height), color=bg_color)\n",
    "    d = ImageDraw.Draw(img)\n",
    "    \n",
    "    # Try to use a default font or fall back to default\n",
    "    try:\n",
    "        font = ImageFont.truetype(\"Arial\", 36)\n",
    "    except IOError:\n",
    "        font = ImageFont.load_default()\n",
    "    \n",
    "    # Draw text in the middle\n",
    "    text_lines = text.split('\\n')\n",
    "    line_height = height // (len(text_lines) + 2)\n",
    "    y_position = line_height\n",
    "    \n",
    "    for line in text_lines:\n",
    "        # Calculate text position to center it\n",
    "        if hasattr(d, 'textbbox'):\n",
    "            # For newer Pillow versions\n",
    "            left, top, right, bottom = d.textbbox((0, 0), line, font=font)\n",
    "            text_width = right - left\n",
    "            text_height = bottom - top\n",
    "        else:\n",
    "            # For older Pillow versions\n",
    "            text_width, text_height = d.textsize(line, font=font)\n",
    "            \n",
    "        x_position = (width - text_width) // 2\n",
    "        \n",
    "        # Draw the text\n",
    "        d.text((x_position, y_position), line, fill='black', font=font)\n",
    "        y_position += line_height\n",
    "    \n",
    "    return img\n",
    "\n",
    "# Create and display the test image\n",
    "test_img = create_test_image()\n",
    "\n",
    "# Display the test image\n",
    "from IPython.display import display\n",
    "display(test_img)\n",
    "\n",
    "# Process the test image directly\n",
    "print(\"\\nProcessing test image:\")\n",
    "result = trocr_extract(image=test_img)\n",
    "print(f\"Extracted text from test image: '{result}'\")"
   ]
  }
 ],
 "metadata": {
  "kernelspec": {
   "display_name": "base",
   "language": "python",
   "name": "python3"
  },
  "language_info": {
   "codemirror_mode": {
    "name": "ipython",
    "version": 3
   },
   "file_extension": ".py",
   "mimetype": "text/x-python",
   "name": "python",
   "nbconvert_exporter": "python",
   "pygments_lexer": "ipython3",
   "version": "3.12.7"
  }
 },
 "nbformat": 4,
 "nbformat_minor": 5
}
